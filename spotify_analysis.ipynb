{
 "cells": [
  {
   "cell_type": "code",
   "execution_count": 1,
   "id": "ddccab33",
   "metadata": {},
   "outputs": [],
   "source": [
    "import pandas as pd\n"
   ]
  },
  {
   "cell_type": "code",
   "execution_count": 2,
   "id": "cb572ebe",
   "metadata": {},
   "outputs": [],
   "source": [
    "df=pd.read_excel('/Users/zenmaster/Desktop/Spotify_Daily_Streaming.xlsx')"
   ]
  },
  {
   "cell_type": "code",
   "execution_count": 3,
   "id": "e21ed850",
   "metadata": {},
   "outputs": [
    {
     "data": {
      "text/plain": [
       "<bound method DataFrame.info of               Date                                          Track URL  \\\n",
       "0       2017-07-20  https://open.spotify.com/track/3RXkboS74UYzN14...   \n",
       "1       2018-07-31  https://open.spotify.com/track/77wz2VtAwxAwYOG...   \n",
       "2       2018-08-02  https://open.spotify.com/track/77wz2VtAwxAwYOG...   \n",
       "3       2017-07-23  https://open.spotify.com/track/6mw02h3qbWmuq2b...   \n",
       "4       2018-06-29  https://open.spotify.com/track/2iUXsYOEPhVqEBw...   \n",
       "...            ...                                                ...   \n",
       "1048570 2018-03-24  https://open.spotify.com/track/7w9bgPAmPTtrkt2...   \n",
       "1048571 2017-01-25  https://open.spotify.com/track/5Z01UMMf7V1o0Mz...   \n",
       "1048572 2018-07-13  https://open.spotify.com/track/7w9bgPAmPTtrkt2...   \n",
       "1048573 2018-10-31  https://open.spotify.com/track/60SdxE8apGAxMiR...   \n",
       "1048574 2018-07-09  https://open.spotify.com/track/1cS0TgbR263ey9j...   \n",
       "\n",
       "         Position                                         Track Name  \\\n",
       "0             NaN                                                NaN   \n",
       "1             1.0  Miljonair (feat. SBMG, Lil' Kleine, Boef & Ron...   \n",
       "2             1.0  Miljonair (feat. SBMG, Lil' Kleine, Boef & Ron...   \n",
       "3             1.0                                          Millionär   \n",
       "4             1.0                                         Youngblood   \n",
       "...           ...                                                ...   \n",
       "1048570     114.0           Lose Yourself - From \"8 Mile\" Soundtrack   \n",
       "1048571     114.0           Lose Yourself - From \"8 Mile\" Soundtrack   \n",
       "1048572     114.0           Lose Yourself - From \"8 Mile\" Soundtrack   \n",
       "1048573     114.0                     Lucky You (feat. Joyner Lucas)   \n",
       "1048574     114.0                           River (feat. Ed Sheeran)   \n",
       "\n",
       "                      Artist  Streams      Country  \n",
       "0                        NaN     3457    Lithuania  \n",
       "1                     $hirak   238729  Netherlands  \n",
       "2                     $hirak   245639  Netherlands  \n",
       "3          187 Strassenbande   387632      Germany  \n",
       "4        5 Seconds of Summer   261795    Australia  \n",
       "...                      ...      ...          ...  \n",
       "1048570               Eminem     1504      Hungary  \n",
       "1048571               Eminem     3250  Switzerland  \n",
       "1048572               Eminem     6699  Switzerland  \n",
       "1048573               Eminem     8079    Singapore  \n",
       "1048574               Eminem     1752      Hungary  \n",
       "\n",
       "[1048575 rows x 7 columns]>"
      ]
     },
     "execution_count": 3,
     "metadata": {},
     "output_type": "execute_result"
    }
   ],
   "source": [
    "df.info"
   ]
  },
  {
   "cell_type": "code",
   "execution_count": 4,
   "id": "bb655f07",
   "metadata": {},
   "outputs": [
    {
     "data": {
      "text/html": [
       "<div>\n",
       "<style scoped>\n",
       "    .dataframe tbody tr th:only-of-type {\n",
       "        vertical-align: middle;\n",
       "    }\n",
       "\n",
       "    .dataframe tbody tr th {\n",
       "        vertical-align: top;\n",
       "    }\n",
       "\n",
       "    .dataframe thead th {\n",
       "        text-align: right;\n",
       "    }\n",
       "</style>\n",
       "<table border=\"1\" class=\"dataframe\">\n",
       "  <thead>\n",
       "    <tr style=\"text-align: right;\">\n",
       "      <th></th>\n",
       "      <th>Date</th>\n",
       "      <th>Track URL</th>\n",
       "      <th>Position</th>\n",
       "      <th>Track Name</th>\n",
       "      <th>Artist</th>\n",
       "      <th>Streams</th>\n",
       "      <th>Country</th>\n",
       "    </tr>\n",
       "  </thead>\n",
       "  <tbody>\n",
       "    <tr>\n",
       "      <th>0</th>\n",
       "      <td>2017-07-20</td>\n",
       "      <td>https://open.spotify.com/track/3RXkboS74UYzN14...</td>\n",
       "      <td>NaN</td>\n",
       "      <td>NaN</td>\n",
       "      <td>NaN</td>\n",
       "      <td>3457</td>\n",
       "      <td>Lithuania</td>\n",
       "    </tr>\n",
       "    <tr>\n",
       "      <th>1</th>\n",
       "      <td>2018-07-31</td>\n",
       "      <td>https://open.spotify.com/track/77wz2VtAwxAwYOG...</td>\n",
       "      <td>1.0</td>\n",
       "      <td>Miljonair (feat. SBMG, Lil' Kleine, Boef &amp; Ron...</td>\n",
       "      <td>$hirak</td>\n",
       "      <td>238729</td>\n",
       "      <td>Netherlands</td>\n",
       "    </tr>\n",
       "    <tr>\n",
       "      <th>2</th>\n",
       "      <td>2018-08-02</td>\n",
       "      <td>https://open.spotify.com/track/77wz2VtAwxAwYOG...</td>\n",
       "      <td>1.0</td>\n",
       "      <td>Miljonair (feat. SBMG, Lil' Kleine, Boef &amp; Ron...</td>\n",
       "      <td>$hirak</td>\n",
       "      <td>245639</td>\n",
       "      <td>Netherlands</td>\n",
       "    </tr>\n",
       "    <tr>\n",
       "      <th>3</th>\n",
       "      <td>2017-07-23</td>\n",
       "      <td>https://open.spotify.com/track/6mw02h3qbWmuq2b...</td>\n",
       "      <td>1.0</td>\n",
       "      <td>Millionär</td>\n",
       "      <td>187 Strassenbande</td>\n",
       "      <td>387632</td>\n",
       "      <td>Germany</td>\n",
       "    </tr>\n",
       "    <tr>\n",
       "      <th>4</th>\n",
       "      <td>2018-06-29</td>\n",
       "      <td>https://open.spotify.com/track/2iUXsYOEPhVqEBw...</td>\n",
       "      <td>1.0</td>\n",
       "      <td>Youngblood</td>\n",
       "      <td>5 Seconds of Summer</td>\n",
       "      <td>261795</td>\n",
       "      <td>Australia</td>\n",
       "    </tr>\n",
       "  </tbody>\n",
       "</table>\n",
       "</div>"
      ],
      "text/plain": [
       "        Date                                          Track URL  Position  \\\n",
       "0 2017-07-20  https://open.spotify.com/track/3RXkboS74UYzN14...       NaN   \n",
       "1 2018-07-31  https://open.spotify.com/track/77wz2VtAwxAwYOG...       1.0   \n",
       "2 2018-08-02  https://open.spotify.com/track/77wz2VtAwxAwYOG...       1.0   \n",
       "3 2017-07-23  https://open.spotify.com/track/6mw02h3qbWmuq2b...       1.0   \n",
       "4 2018-06-29  https://open.spotify.com/track/2iUXsYOEPhVqEBw...       1.0   \n",
       "\n",
       "                                          Track Name               Artist  \\\n",
       "0                                                NaN                  NaN   \n",
       "1  Miljonair (feat. SBMG, Lil' Kleine, Boef & Ron...               $hirak   \n",
       "2  Miljonair (feat. SBMG, Lil' Kleine, Boef & Ron...               $hirak   \n",
       "3                                          Millionär    187 Strassenbande   \n",
       "4                                         Youngblood  5 Seconds of Summer   \n",
       "\n",
       "   Streams      Country  \n",
       "0     3457    Lithuania  \n",
       "1   238729  Netherlands  \n",
       "2   245639  Netherlands  \n",
       "3   387632      Germany  \n",
       "4   261795    Australia  "
      ]
     },
     "execution_count": 4,
     "metadata": {},
     "output_type": "execute_result"
    }
   ],
   "source": [
    "df.head()"
   ]
  },
  {
   "cell_type": "code",
   "execution_count": 8,
   "id": "c65b3c4b",
   "metadata": {},
   "outputs": [
    {
     "name": "stdout",
     "output_type": "stream",
     "text": [
      "<class 'pandas.core.frame.DataFrame'>\n",
      "RangeIndex: 1048575 entries, 0 to 1048574\n",
      "Data columns (total 7 columns):\n",
      " #   Column      Non-Null Count    Dtype         \n",
      "---  ------      --------------    -----         \n",
      " 0   Date        1048575 non-null  datetime64[ns]\n",
      " 1   Track URL   1048575 non-null  object        \n",
      " 2   Position    1048574 non-null  float64       \n",
      " 3   Track Name  1048241 non-null  object        \n",
      " 4   Artist      1048242 non-null  object        \n",
      " 5   Streams     1048575 non-null  int64         \n",
      " 6   Country     1048575 non-null  object        \n",
      "dtypes: datetime64[ns](1), float64(1), int64(1), object(4)\n",
      "memory usage: 56.0+ MB\n"
     ]
    }
   ],
   "source": [
    "df.info()"
   ]
  }
 ],
 "metadata": {
  "kernelspec": {
   "display_name": "Python 3",
   "language": "python",
   "name": "python3"
  },
  "language_info": {
   "codemirror_mode": {
    "name": "ipython",
    "version": 3
   },
   "file_extension": ".py",
   "mimetype": "text/x-python",
   "name": "python",
   "nbconvert_exporter": "python",
   "pygments_lexer": "ipython3",
   "version": "3.9.5"
  }
 },
 "nbformat": 4,
 "nbformat_minor": 5
}
